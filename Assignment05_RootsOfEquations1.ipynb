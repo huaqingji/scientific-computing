{
 "cells": [
  {
   "cell_type": "markdown",
   "metadata": {},
   "source": [
    "Reference\n",
    "- \"Numerical Methods for Engineers\" Steven C. Chapra, and Raymond P. Canale"
   ]
  },
  {
   "cell_type": "code",
   "execution_count": 1,
   "metadata": {},
   "outputs": [],
   "source": [
    "import math\n",
    "import numpy as np\n",
    "import pandas as pd\n",
    "import seaborn as sns\n",
    "import matplotlib.pyplot as plt\n",
    "%matplotlib inline\n",
    "pd.set_option(\"display.max_rows\", None)"
   ]
  },
  {
   "cell_type": "markdown",
   "metadata": {},
   "source": [
    "### Problem 5.3\n",
    "\n",
    "Determine the real root of \n",
    "$$\n",
    "f(x)=-26+85x-91x^2+44x^3-8x^4+x^5\n",
    "$$\n",
    "\n",
    "(a) Graphically.\n",
    "\n",
    "(b) Using bisection to determine the root to $\\epsilon_s=10\\%$. Employ initial guesses of $x_l=0.5$ and $x_u=1.0$.\n",
    "\n",
    "(c) Perform the same computation as in (b) but use the false-position method and $\\epsilon_s=0.2\\%$."
   ]
  },
  {
   "cell_type": "code",
   "execution_count": null,
   "metadata": {},
   "outputs": [],
   "source": [
    "# [roots of equations: bracketing method]\n",
    "\n",
    "# any euqation\n",
    "# two initial guesses (opposite signs) required\n",
    "# determine a single real root"
   ]
  },
  {
   "cell_type": "code",
   "execution_count": 2,
   "metadata": {},
   "outputs": [],
   "source": [
    "# note\n",
    "# [roots of equations: bracketing method]\n",
    "\n",
    "# 1. determine: the value of a single real root\n",
    "# 2. required: two initial guesses, bracket, (x_l, x_u) \n",
    "# could be observed from graphical method \n",
    "# f(x) is real and continuous in the interval (x_l, x_u) \n",
    "# f(x_l) and f(x_u) have opposite signs\n",
    "# 3. strategy: systematically reduce the width of the bracket, to correct answer\n",
    "# 4. e.g. bisection method, false-position method \n",
    "# 5. error formulation to help determine required computational effort"
   ]
  },
  {
   "cell_type": "markdown",
   "metadata": {},
   "source": [
    "### Answer"
   ]
  },
  {
   "cell_type": "markdown",
   "metadata": {},
   "source": [
    "1. Define functions"
   ]
  },
  {
   "cell_type": "code",
   "execution_count": 2,
   "metadata": {},
   "outputs": [],
   "source": [
    "# specific for this problem\n",
    "def f(x):\n",
    "    \n",
    "    result = -26 + 85 * x - 91 * (x ** 2) + 44 * (x ** 3) \n",
    "    - 8 * (x ** 4) + (x ** 5)\n",
    "    return result"
   ]
  },
  {
   "cell_type": "markdown",
   "metadata": {},
   "source": [
    "2. Graphically"
   ]
  },
  {
   "cell_type": "code",
   "execution_count": 4,
   "metadata": {},
   "outputs": [
    {
     "data": {
      "image/png": "[encoded data removed]",
      "text/plain": [
       "<Figure size 720x360 with 1 Axes>"
      ]
     },
     "metadata": {
      "needs_background": "light"
     },
     "output_type": "display_data"
    }
   ],
   "source": [
    "x = list(np.arange(-1, 2, 0.25))\n",
    "y = [f(i) for i in x]\n",
    "\n",
    "plt.figure(figsize = (10, 5))\n",
    "plt.plot(x, y, 'bo--')\n",
    "#plt.xlim(0, 20)\n",
    "plt.xticks(x)\n",
    "plt.title('Root of Equation: Graphical Method')\n",
    "plt.xlabel('x')\n",
    "plt.ylabel('f(x)')\n",
    "#plt.legend(loc='lower right')\n",
    "plt.grid()\n",
    "\n",
    "# insight: root around 0.5, between 0.25 and 0.75"
   ]
  },
  {
   "cell_type": "markdown",
   "metadata": {},
   "source": [
    "3. Bisection method"
   ]
  },
  {
   "cell_type": "code",
   "execution_count": 5,
   "metadata": {},
   "outputs": [],
   "source": [
    "def bisect(f, xl, xu, es, imax = float('inf')):\n",
    "    \"\"\"\n",
    "    This function implements algorithm in figure 5.11, pesudocode for bisection\n",
    "    sub-program which minimized function evaluations\n",
    "    \n",
    "    f: function of the equation\n",
    "    xl: lower guess\n",
    "    xu: upper guess (f(xl) and f(xu) have opposite signs)\n",
    "    es: error criterion (in percent)\n",
    "    imax: maximum iteration steps\n",
    "    \n",
    "    Returns: the approximate root \n",
    "    \"\"\"\n",
    "    \n",
    "    i = 0\n",
    "    fl = f(xl)\n",
    "    ea = float('inf')\n",
    "    xrold = xl   \n",
    "    while True:\n",
    "        i += 1\n",
    "        xr = (xl + xu) / 2 # root location: bisection / middle\n",
    "        fr = f(xr)\n",
    "        \n",
    "        test = fl * fr\n",
    "        if test < 0:\n",
    "            xu = xr\n",
    "        elif test > 0:\n",
    "            xl = xr\n",
    "            fl = fr\n",
    "        else:\n",
    "            ea = 0\n",
    "            \n",
    "        if xr != 0:\n",
    "            ea = abs((xr - xrold) / xr) * 100\n",
    "        print('Step: {}, xr: {}, fr: {}, ea: {}'.format(i, xr, fr, ea))\n",
    "        \n",
    "        if ea < es or i >= imax:\n",
    "            break\n",
    "        xrold = xr\n",
    "    \n",
    "    print('\\nThe approximate root is: {}'.format(xr))\n",
    "    return xr"
   ]
  },
  {
   "cell_type": "code",
   "execution_count": 6,
   "metadata": {},
   "outputs": [
    {
     "name": "stdout",
     "output_type": "stream",
     "text": [
      "Step: 1, xr: 0.75, fr: 5.125, ea: 33.33333333333333\n",
      "Step: 2, xr: 0.625, fr: 2.3203125, ea: 20.0\n",
      "Step: 3, xr: 0.5625, fr: 0.8505859375, ea: 11.11111111111111\n",
      "Step: 4, xr: 0.53125, fr: 0.0706787109375, ea: 5.88235294117647\n",
      "\n",
      "The approximate root is: 0.53125\n"
     ]
    },
    {
     "data": {
      "text/plain": [
       "0.53125"
      ]
     },
     "execution_count": 6,
     "metadata": {},
     "output_type": "execute_result"
    }
   ],
   "source": [
    "bisect(f, 0.5, 1.0, 10)"
   ]
  },
  {
   "cell_type": "code",
   "execution_count": 7,
   "metadata": {},
   "outputs": [
    {
     "data": {
      "text/plain": [
       "0.0706787109375"
      ]
     },
     "execution_count": 7,
     "metadata": {},
     "output_type": "execute_result"
    }
   ],
   "source": [
    "# using 10% error criterion, the bisection method converge in 4 iterations\n",
    "# check the root\n",
    "f(0.53125)"
   ]
  },
  {
   "cell_type": "code",
   "execution_count": 9,
   "metadata": {},
   "outputs": [
    {
     "data": {
      "text/plain": [
       "(0.53125,\n",
       "       converged: True\n",
       "            flag: 'converged'\n",
       "  function_calls: 6\n",
       "      iterations: 4\n",
       "            root: 0.53125)"
      ]
     },
     "execution_count": 9,
     "metadata": {},
     "output_type": "execute_result"
    }
   ],
   "source": [
    "# add later\n",
    "# python library\n",
    "from scipy import optimize\n",
    "\n",
    "optimize.bisect(f=f,\n",
    "                a=0.5,\n",
    "                b=1.0,\n",
    "                xtol=0.05,\n",
    "                full_output=True)"
   ]
  },
  {
   "cell_type": "markdown",
   "metadata": {},
   "source": [
    "4. False-position method\n",
    "- also: linear interpolation method"
   ]
  },
  {
   "cell_type": "code",
   "execution_count": 9,
   "metadata": {},
   "outputs": [],
   "source": [
    "def modFalsePos(f, xl, xu, es, imax = float('inf')):\n",
    "    \"\"\"\n",
    "    This function implements algorithm in figure 5.15, \n",
    "      pesudocode for modified false-position method\n",
    "    \n",
    "    f: function of the equation\n",
    "    xl: lower guess\n",
    "    xu: upper guess (f(xl) and f(xu) have opposite signs)\n",
    "    es: error criterion (in percent)\n",
    "    imax: maximum iteration steps\n",
    "    \n",
    "    Returns: the approximate root \n",
    "    \"\"\"\n",
    "    \n",
    "    i = 0\n",
    "    fl = f(xl)\n",
    "    fu = f(xu)\n",
    "    ea = float('inf')\n",
    "    xrold = xl\n",
    "    il, iu = 0, 0 #if one of the bounds is stuck, the function value at the stagnant bound can be divided in half\n",
    "    while True:\n",
    "        i += 1\n",
    "        xr = xu - (fu * (xl - xu)) / (fl - fu) # root location: false position\n",
    "        fr = f(xr)\n",
    "        \n",
    "        test = fl * fr\n",
    "        if test < 0:\n",
    "            xu = xr\n",
    "            fu = fr\n",
    "            iu = 0\n",
    "            il += 1\n",
    "            if il >= 2:\n",
    "                fl /= 2\n",
    "        elif test > 0:\n",
    "            xl = xr\n",
    "            fl = fr\n",
    "            il = 0\n",
    "            iu += 1\n",
    "            if iu >= 2:\n",
    "                fu /= 2\n",
    "        else:\n",
    "            ea = 0\n",
    "            \n",
    "        if xr != 0:\n",
    "            ea = abs((xr - xrold) / xr) * 100\n",
    "        print('Step: {}, xr: {}, fr: {}, ea: {}'.format(i, xr, fr, ea))\n",
    "        \n",
    "        if ea < es or i >= imax:\n",
    "            break\n",
    "        xrold = xr\n",
    "    \n",
    "    print('\\nThe approximate root is: {}'.format(xr))\n",
    "    return xr"
   ]
  },
  {
   "cell_type": "code",
   "execution_count": 10,
   "metadata": {},
   "outputs": [
    {
     "name": "stdout",
     "output_type": "stream",
     "text": [
      "Step: 1, xr: 0.5294117647058824, fr: 0.023610828414409646, ea: 5.555555555555556\n",
      "Step: 2, xr: 0.5285141090574229, fr: 0.0005746591467712392, ea: 0.16984516270726843\n",
      "\n",
      "The approximate root is: 0.5285141090574229\n"
     ]
    },
    {
     "data": {
      "text/plain": [
       "0.5285141090574229"
      ]
     },
     "execution_count": 10,
     "metadata": {},
     "output_type": "execute_result"
    }
   ],
   "source": [
    "modFalsePos(f, 0.5, 1.0, 0.2)"
   ]
  },
  {
   "cell_type": "code",
   "execution_count": 11,
   "metadata": {},
   "outputs": [
    {
     "data": {
      "text/plain": [
       "0.0005746591467712392"
      ]
     },
     "execution_count": 11,
     "metadata": {},
     "output_type": "execute_result"
    }
   ],
   "source": [
    "# using 0.2% error criterion, the false_position method converge in 2 iterations\n",
    "# check the root\n",
    "f(0.52851410905742295)"
   ]
  },
  {
   "cell_type": "markdown",
   "metadata": {},
   "source": [
    "5. Analyze the results\n",
    "\n",
    "- bisection method: converges in 4 iterations using 10% error criterion\n",
    "- false-position method: converges in 2 iterations using 0.2% error criterion\n",
    "- efficiency: false-position method is more efficient than bisection method in this case"
   ]
  },
  {
   "cell_type": "code",
   "execution_count": null,
   "metadata": {},
   "outputs": [],
   "source": []
  }
 ],
 "metadata": {
  "kernelspec": {
   "display_name": "Python 3",
   "language": "python",
   "name": "python3"
  },
  "language_info": {
   "codemirror_mode": {
    "name": "ipython",
    "version": 3
   },
   "file_extension": ".py",
   "mimetype": "text/x-python",
   "name": "python",
   "nbconvert_exporter": "python",
   "pygments_lexer": "ipython3",
   "version": "3.8.5"
  }
 },
 "nbformat": 4,
 "nbformat_minor": 4
}
