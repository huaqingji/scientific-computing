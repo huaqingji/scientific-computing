{
 "cells": [
  {
   "cell_type": "markdown",
   "metadata": {},
   "source": [
    "Reference\n",
    "- \"Numerical Methods for Engineers\" Steven C. Chapra, and Raymond P. Canale"
   ]
  },
  {
   "cell_type": "code",
   "execution_count": 1,
   "metadata": {},
   "outputs": [],
   "source": [
    "import numpy as np\n",
    "import pandas as pd\n",
    "import matplotlib.pyplot as plt\n",
    "%matplotlib inline\n",
    "pd.set_option(\"display.max_rows\", None)\n",
    "\n",
    "from scipy import linalg"
   ]
  },
  {
   "cell_type": "markdown",
   "metadata": {},
   "source": [
    "### Problem 10.6\n",
    "Use LU decomposition to determine the matrix inverse for the same system as in Prob.10.2.  Do not use a pivoting strategy, and check your results by verifying that $AA^{-1}=I$\n",
    "\n",
    "$7x_1 + 2x_2 - 3x_3 = -12$\n",
    "\n",
    "$2x_1 + 5x_2 - 3x_3 = -20$\n",
    "\n",
    "$x_1 - x_2 - 6x_3 = -26$"
   ]
  },
  {
   "cell_type": "markdown",
   "metadata": {},
   "source": [
    "### Answer"
   ]
  },
  {
   "cell_type": "markdown",
   "metadata": {},
   "source": [
    "1. Define Function"
   ]
  },
  {
   "cell_type": "code",
   "execution_count": 2,
   "metadata": {},
   "outputs": [],
   "source": [
    "def matrix_inverse(a, n):\n",
    "    \"\"\"\n",
    "    This function implements matrix inversion with LU decomposition\n",
    "      using the pseudocode from chapter 10 in the textbook\n",
    "      \n",
    "    This method doesn't use a pivoting strategy, no permutation due to zero pivot\n",
    "    \"\"\"\n",
    "    # decompose the matrix\n",
    "    decompose(a, n)\n",
    "    \n",
    "    # implements matrix inversion\n",
    "    ai = [([0] * n) for i in range(n)] # for the inverse matrix, notice how to create it (avoid reference)\n",
    "    for i in range(n):\n",
    "        # for each column in the identity matrix\n",
    "        # get the column of the identity matrix  at the right-hand-side\n",
    "        b = [0] * n\n",
    "        for j in range(n):\n",
    "            if i == j:\n",
    "                b[j] = 1\n",
    "            else:\n",
    "                b[j] = 0\n",
    "        # calculate the corresponding column at the left-hand-side\n",
    "        x = [0] * n\n",
    "        substitute(a, n, b, x)\n",
    "        for j in range(n):\n",
    "            ai[j][i] = x[j]\n",
    "                \n",
    "    return ai\n",
    "    \n",
    "\n",
    "def decompose(a, n):\n",
    "    # transform a to the format: a = LU\n",
    "    for k in range(n - 1):\n",
    "        for i in range(k + 1, n):\n",
    "            factor = a[i][k] / a[k][k]\n",
    "            a[i][k] = factor\n",
    "            for j in range(k + 1, n):\n",
    "                a[i][j] = a[i][j] - factor * a[k][j]\n",
    "                \n",
    "                \n",
    "def substitute(a, n, b, x):\n",
    "    # forward substitution: LD = b\n",
    "    for i in range(1, n):\n",
    "        _sum = b[i]\n",
    "        for j in range(i):\n",
    "            _sum -= a[i][j] * b[j]\n",
    "        b[i] = _sum\n",
    "    # back substitution: Ux = D\n",
    "    x[n-1] = b[n-1] / a[n-1][n-1]\n",
    "    for i in range(n - 2, -1, -1):\n",
    "        _sum = 0\n",
    "        for j in range(i + 1, n):\n",
    "            _sum += a[i][j] * x[j]\n",
    "        x[i] = (b[i] - _sum) / a[i][i]\n",
    "    "
   ]
  },
  {
   "cell_type": "markdown",
   "metadata": {},
   "source": [
    "2. Implement Calculation"
   ]
  },
  {
   "cell_type": "code",
   "execution_count": 3,
   "metadata": {},
   "outputs": [
    {
     "data": {
      "text/plain": [
       "[[0.171875, -0.07812499999999999, -0.046875],\n",
       " [-0.04687499999999999, 0.20312499999999997, -0.078125],\n",
       " [0.03645833333333333, -0.04687499999999999, -0.16145833333333334]]"
      ]
     },
     "execution_count": 3,
     "metadata": {},
     "output_type": "execute_result"
    }
   ],
   "source": [
    "a = np.array([[7, 2, -3], [2, 5, -3], [1, -1, -6]]).astype(float)\n",
    "\n",
    "a_inverse = matrix_inverse(a.copy(), 3)\n",
    "a_inverse"
   ]
  },
  {
   "cell_type": "markdown",
   "metadata": {},
   "source": [
    "3. Check Answer"
   ]
  },
  {
   "cell_type": "code",
   "execution_count": 4,
   "metadata": {},
   "outputs": [
    {
     "name": "stdout",
     "output_type": "stream",
     "text": [
      "[[1.00000000e+00 3.46944695e-17 2.77555756e-17]\n",
      " [4.16333634e-17 1.00000000e+00 2.77555756e-17]\n",
      " [2.77555756e-17 1.38777878e-17 1.00000000e+00]]\n"
     ]
    }
   ],
   "source": [
    "# 1. check the result\n",
    "print(np.dot(a, a_inverse)) # should be identity matrix"
   ]
  },
  {
   "cell_type": "code",
   "execution_count": 5,
   "metadata": {},
   "outputs": [
    {
     "data": {
      "text/plain": [
       "(array([[1., 0., 0.],\n",
       "        [0., 1., 0.],\n",
       "        [0., 0., 1.]]),\n",
       " array([[ 1.        ,  0.        ,  0.        ],\n",
       "        [ 0.28571429,  1.        ,  0.        ],\n",
       "        [ 0.14285714, -0.29032258,  1.        ]]),\n",
       " array([[ 7.        ,  2.        , -3.        ],\n",
       "        [ 0.        ,  4.42857143, -2.14285714],\n",
       "        [ 0.        ,  0.        , -6.19354839]]))"
      ]
     },
     "execution_count": 5,
     "metadata": {},
     "output_type": "execute_result"
    }
   ],
   "source": [
    "# 2. use the python library\n",
    "p, l, u = linalg.lu(a)\n",
    "p, l, u"
   ]
  },
  {
   "cell_type": "code",
   "execution_count": 6,
   "metadata": {},
   "outputs": [
    {
     "data": {
      "text/plain": [
       "array([[ 0.171875  , -0.078125  , -0.046875  ],\n",
       "       [-0.046875  ,  0.203125  , -0.078125  ],\n",
       "       [ 0.03645833, -0.046875  , -0.16145833]])"
      ]
     },
     "execution_count": 6,
     "metadata": {},
     "output_type": "execute_result"
    }
   ],
   "source": [
    "a_inverse = linalg.inv(a)\n",
    "a_inverse"
   ]
  },
  {
   "cell_type": "markdown",
   "metadata": {},
   "source": [
    "### Problem 11.12\n",
    "Use the Gauss-Seidel method (a) without relaxation (b) with relaxation ($\\lambda=0.95$) to solve the following system to a tolerance of $\\epsilon_s=5\\%$.  If necessary, rearrange the equations to achieve convergence.\n",
    "\n",
    "$-3x_1 + 1x_2 + 15x_3 = 44$\n",
    "\n",
    "$6x_1 - 2x_2 + x_3 = 5$\n",
    "\n",
    "$5x_1 + 10x_2 + x_3 = 28$"
   ]
  },
  {
   "cell_type": "markdown",
   "metadata": {},
   "source": [
    "### Answer"
   ]
  },
  {
   "cell_type": "markdown",
   "metadata": {},
   "source": [
    "1. Define Function"
   ]
  },
  {
   "cell_type": "code",
   "execution_count": 7,
   "metadata": {},
   "outputs": [],
   "source": [
    "def gseid(a, b, n, x, imax, es, _lambda):\n",
    "    \"\"\"\n",
    "    This functions implements Gauss-Seidel method to solve linear equations\n",
    "      using the pseudocode from figure 11.6 in the textbook\n",
    "    \"\"\"\n",
    "    \n",
    "    for i in range(n):\n",
    "        dummy = a[i][i]\n",
    "        for j in range(n):\n",
    "            a[i][j] = a[i][j] / dummy\n",
    "        b[i] = b[i] / dummy\n",
    "    \n",
    "    # first guess\n",
    "    for i in range(n):\n",
    "        _sum = b[i]\n",
    "        for j in range(n):\n",
    "            if i != j:\n",
    "                _sum -= a[i][j] * x[j]\n",
    "        x[i] = _sum\n",
    "\n",
    "    # loops for iteration of more accurate guesses\n",
    "    # stop until fall below the error criterion\n",
    "    _iter = 1\n",
    "    while True:    \n",
    "        sentinel = 1\n",
    "        for i in range(n):\n",
    "            old = x[i]\n",
    "            _sum = b[i]\n",
    "            for j in range(n):\n",
    "                if i != j:\n",
    "                    _sum -= a[i][j] * x[j]\n",
    "            x[i] = _lambda * _sum + (1 - _lambda) * old\n",
    "            if sentinel == 1 and x[i] != 0:\n",
    "                ea = abs((x[i] - old) / x[i]) * 100\n",
    "                if ea > es:\n",
    "                    sentinel = 0\n",
    "           \n",
    "        _iter += 1\n",
    "        if sentinel == 1 or (_iter >= imax):\n",
    "            break\n",
    "            \n",
    "    print('The result is {} with {} iterations'.format(x, _iter))"
   ]
  },
  {
   "cell_type": "markdown",
   "metadata": {},
   "source": [
    "2. Implement Calculation"
   ]
  },
  {
   "cell_type": "code",
   "execution_count": 8,
   "metadata": {},
   "outputs": [],
   "source": [
    "# original\n",
    "#a = np.array([[-3, 1, 15], [6, -2, 1], [5, 10, 1]]).astype(float)\n",
    "#b = np.array([44, 5, 28]).astype(float)"
   ]
  },
  {
   "cell_type": "code",
   "execution_count": 9,
   "metadata": {},
   "outputs": [],
   "source": [
    "# ! need to rearrange the equations to achieve convergence\n",
    "a = np.array([[6, -2, 1], [5, 10, 1], [-3, 1, 15]]).astype(float)\n",
    "b = np.array([5, 28, 44]).astype(float)"
   ]
  },
  {
   "cell_type": "code",
   "execution_count": 10,
   "metadata": {},
   "outputs": [
    {
     "name": "stdout",
     "output_type": "stream",
     "text": [
      "The result is [1.00430445 1.99843924 3.00096494] with 4 iterations\n"
     ]
    }
   ],
   "source": [
    "# (a) if lambda is 1, the result is unmodified\n",
    "x = np.array([0, 0, 0]).astype(float) # initial guesses\n",
    "gseid(a.copy(), b.copy(), 3, x, 100, 5, 1)"
   ]
  },
  {
   "cell_type": "code",
   "execution_count": 11,
   "metadata": {},
   "outputs": [
    {
     "name": "stdout",
     "output_type": "stream",
     "text": [
      "The result is [0.99966339 2.00019778 2.99990359] with 4 iterations\n"
     ]
    }
   ],
   "source": [
    "# (b) with relaxation (𝜆 = 0.95)\n",
    "x = np.array([0, 0, 0]).astype(float) # initial guesses\n",
    "gseid(a.copy(), b.copy(), 3, x, 100, 5, 0.95)"
   ]
  },
  {
   "cell_type": "markdown",
   "metadata": {},
   "source": [
    "3. Check Answer"
   ]
  },
  {
   "cell_type": "code",
   "execution_count": 12,
   "metadata": {},
   "outputs": [
    {
     "data": {
      "text/plain": [
       "array([1., 2., 3.])"
      ]
     },
     "execution_count": 12,
     "metadata": {},
     "output_type": "execute_result"
    }
   ],
   "source": [
    "# use the python library\n",
    "x = np.linalg.solve(a, b)\n",
    "x"
   ]
  },
  {
   "cell_type": "code",
   "execution_count": null,
   "metadata": {},
   "outputs": [],
   "source": []
  },
  {
   "cell_type": "code",
   "execution_count": null,
   "metadata": {},
   "outputs": [],
   "source": []
  }
 ],
 "metadata": {
  "kernelspec": {
   "display_name": "Python 3",
   "language": "python",
   "name": "python3"
  },
  "language_info": {
   "codemirror_mode": {
    "name": "ipython",
    "version": 3
   },
   "file_extension": ".py",
   "mimetype": "text/x-python",
   "name": "python",
   "nbconvert_exporter": "python",
   "pygments_lexer": "ipython3",
   "version": "3.8.5"
  }
 },
 "nbformat": 4,
 "nbformat_minor": 4
}
