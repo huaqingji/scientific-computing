{
 "cells": [
  {
   "cell_type": "markdown",
   "metadata": {},
   "source": [
    "Reference\n",
    "- \"Numerical Methods for Engineers\" Steven C. Chapra, and Raymond P. Canale"
   ]
  },
  {
   "cell_type": "code",
   "execution_count": 157,
   "metadata": {},
   "outputs": [],
   "source": [
    "import cmath # library for complex number\n",
    "import numpy as np\n",
    "import pandas as pd\n",
    "import matplotlib.pyplot as plt\n",
    "%matplotlib inline\n",
    "pd.set_option(\"display.max_rows\", None)"
   ]
  },
  {
   "cell_type": "markdown",
   "metadata": {},
   "source": [
    "### Problem\n",
    "\n",
    "For each of the following polynomials:\n",
    "\n",
    "- Apply either the Muller's method or the Bairstow's method to find all real or complex roots\n",
    "- Analyze and contrast performance between the two methods\n",
    "- Plot the functions to choose root guesses appropriately.\n",
    "- You can apply any simplifications you deem appropriate prior to applying the numerical methods.\n",
    "\n",
    "1. $f(x) = x^3 - x^2 + 2x - 2$\n",
    "\n",
    "2. $f(x) = 2x^4 + 6x^2 + 8$\n",
    "\n",
    "3. $f(x) = -2 + 6.2x - 4x^2 + 0.7x^3$\n",
    "\n",
    "4. $f(x) = x^4 - 2x^3 + 6x^2 - 2x + 5$\n"
   ]
  },
  {
   "cell_type": "code",
   "execution_count": 158,
   "metadata": {},
   "outputs": [],
   "source": [
    "# note: [roots of polynomials]\n",
    "# Muller's method, Bairstow's method\n",
    "\n",
    "# only for polynomials\n",
    "# determine all real and complex roots (nth-order, n-th root)\n",
    "# possibly divergent\n",
    "\n",
    "\n",
    "# note\n",
    "# 1. For an nth-order equation, there are n real or complex roots. \n",
    "#      It should be noted that these roots will not necessarily be distinct.\n",
    "# 2. If n is odd, there is at least one real root.\n",
    "# 3. If complex roots exist, they exist in conjugate pairs"
   ]
  },
  {
   "cell_type": "markdown",
   "metadata": {},
   "source": [
    "### Answer"
   ]
  },
  {
   "cell_type": "markdown",
   "metadata": {},
   "source": [
    "1. define functions"
   ]
  },
  {
   "cell_type": "code",
   "execution_count": 159,
   "metadata": {},
   "outputs": [],
   "source": [
    "# Muller's method\n",
    "def muller(f, xr, h, eps, maxit):\n",
    "    \"\"\"\n",
    "    Implements pseudocode for Muller's method in the figure 7.4 from the textbook\n",
    "    \n",
    "    Notice this routine is set up to take a single initial nonzero guess\n",
    "      that is then perturbed to develop the other two guesses\n",
    "    \"\"\"\n",
    "    x2 = xr\n",
    "    x1 = xr + h * xr\n",
    "    x0 = xr - h * xr\n",
    "    i = 0\n",
    "    while True:\n",
    "        i += 1\n",
    "        # find the related parabola\n",
    "        h0 = x1 - x0\n",
    "        h1 = x2 - x1\n",
    "        d0 = (f(x1) - f(x0)) / h0\n",
    "        d1 = (f(x2) - f(x1)) / h1\n",
    "        a = (d1 - d0) / (h1 + h0)\n",
    "        b = a * h1 + d1\n",
    "        c = f(x2)\n",
    "         # the squred root can be complex number\n",
    "        rad = cmath.sqrt(b * b - 4 * a * c)\n",
    "        if abs(b + rad) > abs(b - rad): # abs can be used to calculate modulus of complex number\n",
    "            den = b + rad\n",
    "        else:\n",
    "            den = b - rad\n",
    "        \n",
    "        dxr = -2 * c / den\n",
    "        xr = x2 + dxr\n",
    "        fr = f(xr)\n",
    "        epsilon_a = abs(dxr/xr) * 100\n",
    "        print('iteration: {}, xr: {}, fr: {}, epsilon_a: {}'.format(\n",
    "        i, xr, fr, epsilon_a))\n",
    "        \n",
    "        if (epsilon_a < eps or i >= maxit):\n",
    "            break\n",
    "            \n",
    "        x0, x1, x2 = x1, x2, xr\n",
    "    \n",
    "    print('The approximate root is: {}'.format(xr))\n",
    "    return xr"
   ]
  },
  {
   "cell_type": "code",
   "execution_count": 160,
   "metadata": {},
   "outputs": [],
   "source": [
    "def plot(f, x_range):\n",
    "    \"\"\"\n",
    "    This function implements a plot for the function based on given range of x\n",
    "    \"\"\"\n",
    "    x = list(x_range)\n",
    "    y = [f(i) for i in x]\n",
    "\n",
    "    plt.figure(figsize = (6, 3))\n",
    "    plt.plot(x, y, 'bo--')\n",
    "    #plt.xlim(0, 20)\n",
    "    plt.xticks(x)\n",
    "    plt.title('Graph of Function')\n",
    "    plt.xlabel('x')\n",
    "    plt.ylabel('f(x)')\n",
    "    #plt.legend(loc='lower right')\n",
    "    plt.grid()"
   ]
  },
  {
   "cell_type": "markdown",
   "metadata": {},
   "source": [
    "2. implement calculations"
   ]
  },
  {
   "cell_type": "markdown",
   "metadata": {},
   "source": [
    "2.1. $f(x) = x^3 - x^2 + 2x - 2$"
   ]
  },
  {
   "cell_type": "code",
   "execution_count": 161,
   "metadata": {},
   "outputs": [
    {
     "data": {
      "image/png": "[encoded data removed]",
      "text/plain": [
       "<Figure size 432x216 with 1 Axes>"
      ]
     },
     "metadata": {
      "needs_background": "light"
     },
     "output_type": "display_data"
    }
   ],
   "source": [
    "def f1(x):\n",
    "    return x ** 3 - x ** 2 + 2 * x - 2\n",
    "\n",
    "plot(f1, np.arange(-1, 2, 0.25))\n",
    "# total 3 roots, one real root"
   ]
  },
  {
   "cell_type": "code",
   "execution_count": 162,
   "metadata": {},
   "outputs": [
    {
     "name": "stdout",
     "output_type": "stream",
     "text": [
      "iteration: 1, xr: (1+0j), fr: 0j, epsilon_a: 0.0\n",
      "The approximate root is: (1+0j)\n"
     ]
    }
   ],
   "source": [
    "x1 = muller(f=f1, xr=1, h=0.1, eps=0.00001, maxit=50)"
   ]
  },
  {
   "cell_type": "code",
   "execution_count": 175,
   "metadata": {},
   "outputs": [
    {
     "name": "stdout",
     "output_type": "stream",
     "text": [
      "iteration: 1, xr: (0.009210301984144196+1.4258043178457898j), fr: (-0.004916856362331412-0.0728358843968393j), epsilon_a: 29.870510712210745\n",
      "iteration: 2, xr: (-0.00038717505419782333+1.4141063889526313j), fr: (0.0012450774485328608+0.0015242943299100808j), epsilon_a: 1.0700182105942153\n",
      "iteration: 3, xr: (-2.649203913208118e-07+1.4142139895849786j), fr: (2.2680203168867763e-06-9.595397636452674e-07j), epsilon_a: 0.028396940881455716\n",
      "iteration: 4, xr: (5.462698732421121e-13+1.4142135623728231j), fr: (-2.9543034685275416e-12-4.574118861455645e-13j), epsilon_a: 3.554527597975918e-05\n",
      "iteration: 5, xr: (-2.054600410144467e-17+1.4142135623730951j), fr: (4.440892098500626e-16-4.440892098500626e-16j), epsilon_a: 4.3149774572525345e-11\n",
      "The approximate root is: (-2.054600410144467e-17+1.4142135623730951j)\n"
     ]
    }
   ],
   "source": [
    "x2 = muller(f=f1, xr=1j, h=0.1, eps=0.00001, maxit=50)"
   ]
  },
  {
   "cell_type": "code",
   "execution_count": 176,
   "metadata": {},
   "outputs": [
    {
     "data": {
      "text/plain": [
       "(-2.0546004101444674e-17-1.4142135623730954j)"
      ]
     },
     "execution_count": 176,
     "metadata": {},
     "output_type": "execute_result"
    }
   ],
   "source": [
    "x3 = (abs(x2)) ** 2 / x2\n",
    "x3"
   ]
  },
  {
   "cell_type": "code",
   "execution_count": 177,
   "metadata": {},
   "outputs": [
    {
     "data": {
      "text/plain": [
       "array([4.85722573e-16+1.41421356j, 4.85722573e-16-1.41421356j,\n",
       "       1.00000000e+00+0.j        ])"
      ]
     },
     "execution_count": 177,
     "metadata": {},
     "output_type": "execute_result"
    }
   ],
   "source": [
    "# check the results using python library\n",
    "coeff = [1, -1, 2, -2]\n",
    "np.roots(coeff)"
   ]
  },
  {
   "cell_type": "markdown",
   "metadata": {},
   "source": [
    "2.2. $f(x) = 2x^4 + 6x^2 + 8$"
   ]
  },
  {
   "cell_type": "code",
   "execution_count": 178,
   "metadata": {},
   "outputs": [
    {
     "data": {
      "image/png": "[encoded data removed]",
      "text/plain": [
       "<Figure size 432x216 with 1 Axes>"
      ]
     },
     "metadata": {
      "needs_background": "light"
     },
     "output_type": "display_data"
    }
   ],
   "source": [
    "def f2(x):\n",
    "    return 2 * (x ** 4) + 6 * (x ** 2) + 8\n",
    "\n",
    "plot(f2, np.arange(-1, 2, 0.25))\n",
    "# total 4 roots, no real root"
   ]
  },
  {
   "cell_type": "code",
   "execution_count": 179,
   "metadata": {},
   "outputs": [
    {
     "name": "stdout",
     "output_type": "stream",
     "text": [
      "iteration: 1, xr: (0.4428412874583795-0.7599187455133491j), fr: (5.096690716234409-3.011566459965914j), epsilon_a: 107.13431680111604\n",
      "iteration: 2, xr: (0.349279094352047-1.0507154230775528j), fr: (2.959162972421309-1.5207981134001605j), epsilon_a: 27.588901837102114\n",
      "iteration: 3, xr: (0.379196445384883-1.3071705268523597j), fr: (1.5428802533702397+0.2573733582164772j), epsilon_a: 18.970083364017135\n",
      "iteration: 4, xr: (0.5058203469463887-1.337165659303957j), fr: (-0.15769512891941062+0.1740033126932854j), epsilon_a: 9.102167637664174\n",
      "iteration: 5, xr: (0.49971223543631565-1.3225641519271782j), fr: (0.005674351514046272-0.002835966789698219j), epsilon_a: 1.119491792634283\n",
      "iteration: 6, xr: (0.49999950259281933-1.3228753247271878j), fr: (8.714149741351207e-06-1.9992383455402774e-06j), epsilon_a: 0.029945872316834314\n",
      "iteration: 7, xr: (0.4999999999984621-1.322875655529763j), fr: (3.4930280889966525e-11-2.731592729787735e-11j), epsilon_a: 4.223995248548219e-05\n",
      "iteration: 8, xr: (0.5-1.3228756555322954j), fr: 8.881784197001252e-16j, epsilon_a: 2.0950006438918267e-10\n",
      "The approximate root is: (0.5-1.3228756555322954j)\n"
     ]
    }
   ],
   "source": [
    "x1 = muller(f = f2, xr = 1, h = 0.1, eps = 0.00001, maxit = 50)"
   ]
  },
  {
   "cell_type": "code",
   "execution_count": 180,
   "metadata": {},
   "outputs": [
    {
     "data": {
      "text/plain": [
       "(0.5000000000000001+1.3228756555322956j)"
      ]
     },
     "execution_count": 180,
     "metadata": {},
     "output_type": "execute_result"
    }
   ],
   "source": [
    "x2 = (abs(x1)) ** 2 / x1\n",
    "x2"
   ]
  },
  {
   "cell_type": "code",
   "execution_count": 181,
   "metadata": {},
   "outputs": [
    {
     "name": "stdout",
     "output_type": "stream",
     "text": [
      "iteration: 1, xr: (-0.4428412874583795-0.7599187455133491j), fr: (5.096690716234409+3.011566459965914j), epsilon_a: 107.13431680111604\n",
      "iteration: 2, xr: (-0.349279094352047-1.0507154230775528j), fr: (2.959162972421309+1.5207981134001605j), epsilon_a: 27.588901837102114\n",
      "iteration: 3, xr: (-0.379196445384883-1.3071705268523597j), fr: (1.5428802533702397-0.2573733582164772j), epsilon_a: 18.970083364017135\n",
      "iteration: 4, xr: (-0.5058203469463887-1.337165659303957j), fr: (-0.15769512891941062-0.1740033126932854j), epsilon_a: 9.102167637664174\n",
      "iteration: 5, xr: (-0.49971223543631565-1.3225641519271782j), fr: (0.005674351514046272+0.002835966789698219j), epsilon_a: 1.119491792634283\n",
      "iteration: 6, xr: (-0.49999950259281933-1.3228753247271878j), fr: (8.714149741351207e-06+1.9992383455402774e-06j), epsilon_a: 0.029945872316834314\n",
      "iteration: 7, xr: (-0.4999999999984621-1.322875655529763j), fr: (3.4930280889966525e-11+2.731592729787735e-11j), epsilon_a: 4.223995248548219e-05\n",
      "iteration: 8, xr: (-0.5-1.3228756555322954j), fr: -8.881784197001252e-16j, epsilon_a: 2.0950006438918267e-10\n",
      "The approximate root is: (-0.5-1.3228756555322954j)\n"
     ]
    }
   ],
   "source": [
    "x3 = muller(f = f2, xr = -1, h = 0.1, eps = 0.00001, maxit = 50)"
   ]
  },
  {
   "cell_type": "code",
   "execution_count": 182,
   "metadata": {},
   "outputs": [
    {
     "data": {
      "text/plain": [
       "(-0.5000000000000001+1.3228756555322956j)"
      ]
     },
     "execution_count": 182,
     "metadata": {},
     "output_type": "execute_result"
    }
   ],
   "source": [
    "# based on properties of conjugate complex numbers\n",
    "x4 = (abs(x3)) ** 2 / x3\n",
    "x4"
   ]
  },
  {
   "cell_type": "code",
   "execution_count": 183,
   "metadata": {},
   "outputs": [
    {
     "data": {
      "text/plain": [
       "array([-0.5+1.32287566j, -0.5-1.32287566j,  0.5+1.32287566j,\n",
       "        0.5-1.32287566j])"
      ]
     },
     "execution_count": 183,
     "metadata": {},
     "output_type": "execute_result"
    }
   ],
   "source": [
    "# check the results using python library\n",
    "coeff = [2, 0, 6, 0, 8]\n",
    "np.roots(coeff)"
   ]
  },
  {
   "cell_type": "markdown",
   "metadata": {},
   "source": [
    "2.3. $f(x) = -2 + 6.2x - 4x^2 + 0.7x^3$"
   ]
  },
  {
   "cell_type": "code",
   "execution_count": 184,
   "metadata": {},
   "outputs": [
    {
     "data": {
      "image/png": "[encoded data removed]",
      "text/plain": [
       "<Figure size 432x216 with 1 Axes>"
      ]
     },
     "metadata": {
      "needs_background": "light"
     },
     "output_type": "display_data"
    }
   ],
   "source": [
    "def f3(x):\n",
    "    return -2 + 6.2 * x - 4 * (x ** 2) + 0.7 * (x ** 3)\n",
    "\n",
    "plot(f3, np.arange(-1, 5, 0.5))\n",
    "# total 3 roots, 3 real roots"
   ]
  },
  {
   "cell_type": "code",
   "execution_count": 185,
   "metadata": {},
   "outputs": [
    {
     "name": "stdout",
     "output_type": "stream",
     "text": [
      "iteration: 1, xr: (0.4357086187008654+0j), fr: (-7.350865639790122e-05+0j), epsilon_a: 14.755590901742913\n",
      "iteration: 2, xr: (0.4357322717658265+0j), fr: (1.2159116156984506e-07+0j), epsilon_a: 0.005428348206856487\n",
      "iteration: 3, xr: (0.4357322327048419+0j), fr: (4.1369685455094896e-14+0j), epsilon_a: 8.964446898728265e-06\n",
      "The approximate root is: (0.4357322327048419+0j)\n"
     ]
    }
   ],
   "source": [
    "x1 = muller(f = f3, xr = 0.5, h = 0.1, eps = 0.00001, maxit = 50)"
   ]
  },
  {
   "cell_type": "code",
   "execution_count": 186,
   "metadata": {},
   "outputs": [
    {
     "name": "stdout",
     "output_type": "stream",
     "text": [
      "iteration: 1, xr: (2+0j), fr: 0j, epsilon_a: 0.0\n",
      "The approximate root is: (2+0j)\n"
     ]
    }
   ],
   "source": [
    "x2 = muller(f = f3, xr = 2, h = 0.1, eps = 0.00001, maxit = 50)"
   ]
  },
  {
   "cell_type": "code",
   "execution_count": 187,
   "metadata": {},
   "outputs": [
    {
     "name": "stdout",
     "output_type": "stream",
     "text": [
      "iteration: 1, xr: (3.277562765295835+0j), fr: (-0.002517837883100782+0j), epsilon_a: 8.468572081510752\n",
      "iteration: 2, xr: (3.2785518557919837+0j), fr: (-4.136469691218281e-06+0j), epsilon_a: 0.030168517676527173\n",
      "iteration: 3, xr: (3.2785534817043356+0j), fr: (3.140918636290735e-10+0j), epsilon_a: 4.9592369351520704e-05\n",
      "iteration: 4, xr: (3.278553481580886+0j), fr: 0j, epsilon_a: 3.7653722841255335e-09\n",
      "The approximate root is: (3.278553481580886+0j)\n"
     ]
    }
   ],
   "source": [
    "x3 = muller(f = f3, xr = 3, h = 0.1, eps = 0.00001, maxit = 50)"
   ]
  },
  {
   "cell_type": "code",
   "execution_count": 188,
   "metadata": {},
   "outputs": [
    {
     "data": {
      "text/plain": [
       "array([3.27855348, 2.        , 0.43573223])"
      ]
     },
     "execution_count": 188,
     "metadata": {},
     "output_type": "execute_result"
    }
   ],
   "source": [
    "# check the results using python library\n",
    "coeff = [0.7, -4, 6.2, -2]\n",
    "np.roots(coeff)"
   ]
  },
  {
   "cell_type": "markdown",
   "metadata": {},
   "source": [
    "2.4. $f(x) = x^4 - 2x^3 + 6x^2 - 2x + 5$"
   ]
  },
  {
   "cell_type": "code",
   "execution_count": 189,
   "metadata": {},
   "outputs": [
    {
     "data": {
      "image/png": "[encoded data removed]",
      "text/plain": [
       "<Figure size 432x216 with 1 Axes>"
      ]
     },
     "metadata": {
      "needs_background": "light"
     },
     "output_type": "display_data"
    }
   ],
   "source": [
    "def f4(x):\n",
    "    return x ** 4 - 2 * (x ** 3) + 6 * (x ** 2) - 2 * x + 5\n",
    "\n",
    "plot(f4, np.arange(-1, 2, 0.25))\n",
    "# total 4 roots, no real root"
   ]
  },
  {
   "cell_type": "code",
   "execution_count": 190,
   "metadata": {},
   "outputs": [
    {
     "name": "stdout",
     "output_type": "stream",
     "text": [
      "iteration: 1, xr: (0.12782808197931758+0.9144474141188375j), fr: (1.07981037994018+0.630157881981253j), epsilon_a: 89.2866146053993\n",
      "iteration: 2, xr: (0.033752733048353245+1.011091979588783j), fr: (0.05057001425608121+0.30832490381019095j), epsilon_a: 13.331773629730273\n",
      "iteration: 3, xr: (-0.0012735526807227601+1.0015629174155791j), fr: (-0.01762146523736341-0.003931805636067098j), epsilon_a: 3.6242688824233897\n",
      "iteration: 4, xr: (5.178153870185687e-06+0.9999986447430654j), fr: (3.155458674442002e-05+3.600405336467993e-05j), epsilon_a: 0.2020423867859876\n",
      "iteration: 5, xr: (1.907161925358898e-10+1.0000000000179756j), fr: (6.190594703525676e-10+1.597632248717673e-09j), epsilon_a: 0.0005352389420185052\n",
      "iteration: 6, xr: (-4.846827576126901e-18+1j), fr: 0j, epsilon_a: 1.915614587952901e-08\n",
      "The approximate root is: (-4.846827576126901e-18+1j)\n"
     ]
    }
   ],
   "source": [
    "x1 = muller(f=f4, xr=0.1j, h=0.1, eps=0.00001, maxit=50)"
   ]
  },
  {
   "cell_type": "code",
   "execution_count": 191,
   "metadata": {},
   "outputs": [
    {
     "data": {
      "text/plain": [
       "(-4.846827576126901e-18-1j)"
      ]
     },
     "execution_count": 191,
     "metadata": {},
     "output_type": "execute_result"
    }
   ],
   "source": [
    "x2 = (abs(x1)) ** 2 / x1\n",
    "x2"
   ]
  },
  {
   "cell_type": "code",
   "execution_count": 195,
   "metadata": {},
   "outputs": [
    {
     "name": "stdout",
     "output_type": "stream",
     "text": [
      "iteration: 1, xr: (-6.428785607196401-2.4848468247844617j), fr: (737.1316329520032+3028.490126031237j), epsilon_a: 63.123175372083104\n",
      "iteration: 2, xr: (-5.162447742043505-3.007682149379237j), fr: (-538.5062939847842+1712.2612648133502j), epsilon_a: 22.930446097728378\n",
      "iteration: 3, xr: (-3.7103553901649957-3.272108496593725j), fr: (-685.6349989354039+501.0471405912594j), epsilon_a: 29.835320181195797\n",
      "iteration: 4, xr: (-2.339923121845347-3.3742853357925617j), fr: (-374.4368994410029-51.16132118759915j), epsilon_a: 33.467181103853974\n",
      "iteration: 5, xr: (-1.3406469693151997-3.2483274138182905j), fr: (-124.12289974916825-127.26030088479541j), epsilon_a: 28.661125259931712\n",
      "iteration: 6, xr: (-0.5286548699411512-3.014357898475496j), fr: (-7.90631072318504-80.70999844911435j), epsilon_a: 27.61201831457432\n",
      "iteration: 7, xr: (0.09476723752295091-2.731453836876624j), fr: (19.602055074518027-30.53829181219742j), epsilon_a: 25.048843054435288\n",
      "iteration: 8, xr: (0.5397202000486347-2.4481971165609155j), fr: (14.334584139766072-5.8890243707994125j), epsilon_a: 21.039757364088803\n",
      "iteration: 9, xr: (0.8322869572741405-2.2132765266233405j), fr: (5.525705095899941+0.8269116690539802j), epsilon_a: 15.867880005420739\n",
      "iteration: 10, xr: (0.9750490646679535-2.0623705215849872j), fr: (0.9959050093698698+0.7795346914207766j), epsilon_a: 9.106179511422415\n",
      "iteration: 11, xr: (1.0014132721969256-2.0051167320691308j), fr: (0.01858386474312823+0.09372549479216197j), epsilon_a: 2.812337884709628\n",
      "iteration: 12, xr: (1.0000454455347272-2.0000049088553924j), fr: (-0.0006878998082076038+0.0004420894999928038j), epsilon_a: 0.23664770171160257\n",
      "iteration: 13, xr: (0.9999999964704264-1.9999999933042232j), fr: (2.9069644469359446e-09-1.3536902176980448e-07j), epsilon_a: 0.002044397272185528\n",
      "iteration: 14, xr: (1.0000000000000009-2.0000000000000004j), fr: (-8.881784197001252e-15+1.509903313490213e-14j), epsilon_a: 3.3850060447765436e-07\n",
      "The approximate root is: (1.0000000000000009-2.0000000000000004j)\n"
     ]
    }
   ],
   "source": [
    "x3 = muller(f=f4, xr=-10, h=0.1, eps=0.00001, maxit=50)"
   ]
  },
  {
   "cell_type": "code",
   "execution_count": 196,
   "metadata": {},
   "outputs": [
    {
     "data": {
      "text/plain": [
       "(1.000000000000001+2.000000000000001j)"
      ]
     },
     "execution_count": 196,
     "metadata": {},
     "output_type": "execute_result"
    }
   ],
   "source": [
    "x4 = (abs(x3)) ** 2 / x3\n",
    "x4"
   ]
  },
  {
   "cell_type": "code",
   "execution_count": 197,
   "metadata": {},
   "outputs": [
    {
     "data": {
      "text/plain": [
       "array([ 1.00000000e+00+2.j,  1.00000000e+00-2.j, -7.63278329e-17+1.j,\n",
       "       -7.63278329e-17-1.j])"
      ]
     },
     "execution_count": 197,
     "metadata": {},
     "output_type": "execute_result"
    }
   ],
   "source": [
    "# check the results using python library\n",
    "coeff = [1, -2, 6, -2, 5]\n",
    "np.roots(coeff)"
   ]
  },
  {
   "cell_type": "markdown",
   "metadata": {},
   "source": [
    "3. Analsis\n",
    "\n",
    "- Muller's methods\n",
    "- easier to find real roots\n",
    "- can be hard to define the initial guesses for the complex roots"
   ]
  },
  {
   "cell_type": "code",
   "execution_count": null,
   "metadata": {},
   "outputs": [],
   "source": []
  },
  {
   "cell_type": "code",
   "execution_count": null,
   "metadata": {},
   "outputs": [],
   "source": []
  }
 ],
 "metadata": {
  "kernelspec": {
   "display_name": "Python 3",
   "language": "python",
   "name": "python3"
  },
  "language_info": {
   "codemirror_mode": {
    "name": "ipython",
    "version": 3
   },
   "file_extension": ".py",
   "mimetype": "text/x-python",
   "name": "python",
   "nbconvert_exporter": "python",
   "pygments_lexer": "ipython3",
   "version": "3.8.5"
  }
 },
 "nbformat": 4,
 "nbformat_minor": 4
}
