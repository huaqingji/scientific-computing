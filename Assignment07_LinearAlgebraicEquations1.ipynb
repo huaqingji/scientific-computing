{
 "cells": [
  {
   "cell_type": "markdown",
   "metadata": {},
   "source": [
    "Reference\n",
    "- \"Numerical Methods for Engineers\" Steven C. Chapra, and Raymond P. Canale"
   ]
  },
  {
   "cell_type": "code",
   "execution_count": 1,
   "metadata": {},
   "outputs": [],
   "source": [
    "import numpy as np\n",
    "import pandas as pd\n",
    "import matplotlib.pyplot as plt\n",
    "%matplotlib inline\n",
    "pd.set_option(\"display.max_rows\", None)"
   ]
  },
  {
   "cell_type": "code",
   "execution_count": 2,
   "metadata": {},
   "outputs": [],
   "source": [
    "# goal: solve linear algebraic equations\n",
    "# 1. square matrix (n equations, n unknowns)\n",
    "# 2. only want the one unique solution (determinant not zero, nonsigular, invertible)\n",
    "\n",
    "# method: Gauss elimination with partial pivoting\n",
    "\n",
    "# partial pivoting\n",
    "# 1. switch rows so that the largest element is the pivot element,\n",
    "#    if equal or close to zero, end process\n",
    "# 2. avoid divison by zero\n",
    "# 3. minimize round-off error, serves as a remedy for ill-conditioning\n",
    "#    (wide range of answers can approximately satisfy the equations)"
   ]
  },
  {
   "cell_type": "markdown",
   "metadata": {},
   "source": [
    "### Problem 9.11\n",
    "Given the equations\n",
    "\n",
    "$2x_1 - 6x_2 - x_3 = -38$\n",
    "\n",
    "$-3x_1 - x_2 + 7x_3 = -34$\n",
    "\n",
    "$-8x_1 + x_2 - 2x_3 = -20$\n",
    "\n",
    "(a) Solve by Gauss elimination with partial pivoting.  Show all steps of the computation.\n",
    "\n",
    "(b) Substitute your results into the original equations to check your answers."
   ]
  },
  {
   "cell_type": "markdown",
   "metadata": {},
   "source": [
    "### Answer"
   ]
  },
  {
   "cell_type": "markdown",
   "metadata": {},
   "source": [
    "1. Define Function"
   ]
  },
  {
   "cell_type": "code",
   "execution_count": 3,
   "metadata": {},
   "outputs": [],
   "source": [
    "def gauss(a, b, n, tol = 0.00001):\n",
    "    \"\"\"\n",
    "    This function implements Gauss elimination with partial pivoting\n",
    "      using the pseudocode from figure 9.6 in the textbook\n",
    "    \n",
    "    a: array (n * n) of left-hand-side coefficients of linear equations\n",
    "    b: array (1 * n) of right-hand-side constants of linear equations\n",
    "    n: number of equations\n",
    "    tol: parameter set by the user to a small number in order to detect near-zero occurrences\n",
    "    \n",
    "    Returns: the list of x variables, the result for linear equations\n",
    "    \"\"\"\n",
    "    print('-------------Original Augmented Matrix-----------------')\n",
    "    print('a|b: \\n', np.concatenate((a, b.reshape(n, 1)), axis=1))\n",
    "    \n",
    "    x = [0] * n # contain the result of provided linear equations\n",
    "    er = 0\n",
    "    \n",
    "    s = [0] * n # keep the largest coefficient (absolute value)\n",
    "    for i in range(n):\n",
    "        s[i] = abs(a[i][0])\n",
    "        for j in range(1, n):\n",
    "            if abs(a[i][j]) > s[i]: # keep largest coefficient, for partial pivoting\n",
    "                s[i] = abs(a[i][j])\n",
    "                \n",
    "    print('----------------Forward Elimination Process------------------')\n",
    "    er = eliminate(a, s, n, b, tol)\n",
    "    # If it passes back a value of er=-1, a singular matrix has been detected\n",
    "    # and the computation should be terminated\n",
    "    if er == -1:\n",
    "        return 'No Proper Result'\n",
    "    else:\n",
    "        print('----------------Backward Substitution Process------------------')\n",
    "        _ = substitude(a, n, b, x) \n",
    "        \n",
    "    return x\n",
    "\n",
    "    \n",
    "def eliminate(a, s, n, b, tol):\n",
    "    \"\"\"\n",
    "    This function implements forward-elimination with partial pivoting\n",
    "    \"\"\"\n",
    "    er = 0\n",
    "    for k in range(0, n-1):\n",
    "        # 1. partial pivoting (switch rows)\n",
    "        # k is the row number used as pivoting in this loop\n",
    "        pivot(a, b, s, n, k)\n",
    "        if abs(a[k][k] / s[k]) < tol:\n",
    "            er = -1\n",
    "            break\n",
    "        # 2. naive elimination (eliminate)\n",
    "        for i in range(k + 1, n):\n",
    "            # eliminate for each row\n",
    "            factor = a[i][k] / a[k][k]\n",
    "            for j in range(n): # modified, since the code in textbook is propabaly wrong\n",
    "                # for each item in each row\n",
    "                a[i][j] = a[i][j] - factor * a[k][j]\n",
    "            b[i] = b[i] - factor * b[k]\n",
    "        print('a|b: \\n', np.concatenate((a, b.reshape(n, 1)), axis=1))\n",
    "            \n",
    "    if abs(a[n-1][n-1] / s[n-1]) < tol:\n",
    "        er = -1\n",
    "        \n",
    "    return er\n",
    "\n",
    "\n",
    "def pivot(a, b, s, n, k):\n",
    "    \"\"\"\n",
    "    This function implements partial pivoting\n",
    "    \"\"\"\n",
    "    p = k\n",
    "    big = abs(a[k][k] / s[k])\n",
    "    for ii in range(k+1, n):\n",
    "        dummy = abs(a[ii][k] / s[ii])\n",
    "        if dummy > big:\n",
    "            big = dummy\n",
    "            p = ii\n",
    "    \n",
    "    if p != k:\n",
    "        for jj in range(k, n):\n",
    "            a[p][jj], a[k][jj] = a[k][jj], a[p][jj]\n",
    "        b[p], b[k] = b[k], b[p]\n",
    "        s[p], s[k] = s[k], s[p]\n",
    "        \n",
    "    return None\n",
    "\n",
    "\n",
    "def substitude(a, n, b, x):\n",
    "    \"\"\"\n",
    "    This function implements backward-substitution\n",
    "    \"\"\"\n",
    "    x[n-1] = b[n-1] / a[n-1][n-1]\n",
    "    for i in range(n - 2, -1, -1):\n",
    "        sum_ = 0\n",
    "        for j in range(i + 1, n):\n",
    "            sum_ += a[i][j] * x[j]\n",
    "        x[i] = (b[i] - sum_) / a[i][i] # modified, since the code in textbook is propabaly wrong\n",
    "        print('x: ', x)\n",
    "        \n",
    "    return None"
   ]
  },
  {
   "cell_type": "markdown",
   "metadata": {},
   "source": [
    "2. Implement Calculation"
   ]
  },
  {
   "cell_type": "code",
   "execution_count": 4,
   "metadata": {},
   "outputs": [
    {
     "name": "stdout",
     "output_type": "stream",
     "text": [
      "-------------Original Augmented Matrix-----------------\n",
      "a|b: \n",
      " [[  2.  -6.  -1. -38.]\n",
      " [ -3.  -1.   7. -34.]\n",
      " [ -8.   1.  -2. -20.]]\n",
      "----------------Forward Elimination Process------------------\n",
      "a|b: \n",
      " [[ -8.      1.     -2.    -20.   ]\n",
      " [  0.     -1.375   7.75  -26.5  ]\n",
      " [  0.     -5.75   -1.5   -43.   ]]\n",
      "a|b: \n",
      " [[ -8.           1.          -2.         -20.        ]\n",
      " [  0.          -5.75        -1.5        -43.        ]\n",
      " [  0.           0.           8.10869565 -16.2173913 ]]\n",
      "----------------Backward Substitution Process------------------\n",
      "x:  [0, 8.0, -2.0]\n",
      "x:  [4.0, 8.0, -2.0]\n",
      "Answer:  [4.0, 8.0, -2.0]\n"
     ]
    }
   ],
   "source": [
    "a = np.array([[2, -6, -1], [-3, -1, 7], [-8, 1, -2]]).astype(float)\n",
    "b = np.array([-38, -34, -20]).astype(float)\n",
    "n = 3\n",
    "x = gauss(a.copy(), b.copy(), n)\n",
    "print('Answer: ', x)"
   ]
  },
  {
   "cell_type": "markdown",
   "metadata": {},
   "source": [
    "3. Check Answer"
   ]
  },
  {
   "cell_type": "code",
   "execution_count": 5,
   "metadata": {},
   "outputs": [
    {
     "name": "stdout",
     "output_type": "stream",
     "text": [
      "differences:  [0. 0. 0.]\n"
     ]
    }
   ],
   "source": [
    "# 1. substitute the results into original equations\n",
    "print('differences: ', b - np.dot(a, x))"
   ]
  },
  {
   "cell_type": "code",
   "execution_count": 6,
   "metadata": {},
   "outputs": [
    {
     "data": {
      "text/plain": [
       "array([ 4.,  8., -2.])"
      ]
     },
     "execution_count": 6,
     "metadata": {},
     "output_type": "execute_result"
    }
   ],
   "source": [
    "# 2. use the numpy library\n",
    "x = np.linalg.solve(a, b)\n",
    "x"
   ]
  },
  {
   "cell_type": "markdown",
   "metadata": {},
   "source": [
    "### Problem 9.18\n",
    "Develop, debug, and test a program in either a high-level language or macro language of your choice to solve a system of equations with Gauss elimination with partial pivoting.  Base the program on the pseudocode from Fig.9.6.  Test the program using the following system (which has an answer of $x_1 = x_2 = x_3 = 2$),\n",
    "\n",
    "$x_1 + 2x_2 - x_3 = 4$\n",
    "\n",
    "$5x_1 + 2x_2 + 2x_3 = 18$\n",
    "\n",
    "$-3x_1 + 5x_2 - x_3 = 2$"
   ]
  },
  {
   "cell_type": "markdown",
   "metadata": {},
   "source": [
    "### Answer"
   ]
  },
  {
   "cell_type": "markdown",
   "metadata": {},
   "source": [
    "1. Implement Calculation"
   ]
  },
  {
   "cell_type": "code",
   "execution_count": 7,
   "metadata": {},
   "outputs": [
    {
     "name": "stdout",
     "output_type": "stream",
     "text": [
      "-------------Original Augmented Matrix-----------------\n",
      "a|b: \n",
      " [[ 1.  2. -1.  4.]\n",
      " [ 5.  2.  2. 18.]\n",
      " [-3.  5. -1.  2.]]\n",
      "----------------Forward Elimination Process------------------\n",
      "a|b: \n",
      " [[ 5.   2.   2.  18. ]\n",
      " [ 0.   1.6 -1.4  0.4]\n",
      " [ 0.   6.2  0.2 12.8]]\n",
      "a|b: \n",
      " [[ 5.          2.          2.         18.        ]\n",
      " [ 0.          6.2         0.2        12.8       ]\n",
      " [ 0.          0.         -1.4516129  -2.90322581]]\n",
      "----------------Backward Substitution Process------------------\n",
      "x:  [0, 1.9999999999999998, 2.0]\n",
      "x:  [2.0, 1.9999999999999998, 2.0]\n",
      "Answer:  [2.0, 1.9999999999999998, 2.0]\n"
     ]
    }
   ],
   "source": [
    "a = np.array([[1, 2, -1], [5, 2, 2], [-3, 5, -1]]).astype(float)\n",
    "b = np.array([4, 18, 2]).astype(float)\n",
    "n = 3\n",
    "x = gauss(a.copy(), b.copy(), n)\n",
    "print('Answer: ', x)"
   ]
  },
  {
   "cell_type": "markdown",
   "metadata": {},
   "source": [
    "2. Check Answer"
   ]
  },
  {
   "cell_type": "code",
   "execution_count": 8,
   "metadata": {},
   "outputs": [
    {
     "name": "stdout",
     "output_type": "stream",
     "text": [
      "differences:  [0.00000000e+00 0.00000000e+00 1.77635684e-15]\n"
     ]
    }
   ],
   "source": [
    "# 1. substitute the results into original equations\n",
    "print('differences: ', b - np.dot(a, x))"
   ]
  },
  {
   "cell_type": "code",
   "execution_count": 9,
   "metadata": {},
   "outputs": [
    {
     "data": {
      "text/plain": [
       "array([2., 2., 2.])"
      ]
     },
     "execution_count": 9,
     "metadata": {},
     "output_type": "execute_result"
    }
   ],
   "source": [
    "# 2. use the numpy library\n",
    "x = np.linalg.solve(a, b)\n",
    "x"
   ]
  },
  {
   "cell_type": "code",
   "execution_count": null,
   "metadata": {},
   "outputs": [],
   "source": []
  },
  {
   "cell_type": "code",
   "execution_count": null,
   "metadata": {},
   "outputs": [],
   "source": []
  }
 ],
 "metadata": {
  "kernelspec": {
   "display_name": "Python 3",
   "language": "python",
   "name": "python3"
  },
  "language_info": {
   "codemirror_mode": {
    "name": "ipython",
    "version": 3
   },
   "file_extension": ".py",
   "mimetype": "text/x-python",
   "name": "python",
   "nbconvert_exporter": "python",
   "pygments_lexer": "ipython3",
   "version": "3.8.5"
  }
 },
 "nbformat": 4,
 "nbformat_minor": 4
}
