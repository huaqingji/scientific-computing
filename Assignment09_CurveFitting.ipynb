{
 "cells": [
  {
   "cell_type": "markdown",
   "metadata": {},
   "source": [
    "Reference\n",
    "- \"Numerical Methods for Engineers\" Steven C. Chapra, and Raymond P. Canale"
   ]
  },
  {
   "cell_type": "code",
   "execution_count": 23,
   "metadata": {},
   "outputs": [],
   "source": [
    "import numpy as np\n",
    "import pandas as pd\n",
    "import matplotlib.pyplot as plt\n",
    "%matplotlib inline\n",
    "pd.set_option(\"display.max_rows\", None)\n",
    "\n",
    "import math"
   ]
  },
  {
   "cell_type": "markdown",
   "metadata": {},
   "source": [
    "### Problem 18.1\n",
    "\n",
    "Estimate the common logrithm of 10 using linear interpolation.\n",
    "\n",
    "(a) Interpolate between $\\log{8}=0.9030900$ and $\\log{12}=1.0791812$\n",
    "\n",
    "(b) Interpolate between $\\log{9}=0.9542425$ and $\\log{11}=1.0413927$\n",
    "\n",
    "For each of the interpolations, compute the percent relative error based on the true value"
   ]
  },
  {
   "cell_type": "markdown",
   "metadata": {},
   "source": [
    "### Answer"
   ]
  },
  {
   "cell_type": "markdown",
   "metadata": {},
   "source": [
    "1. define functions"
   ]
  },
  {
   "cell_type": "code",
   "execution_count": 24,
   "metadata": {},
   "outputs": [],
   "source": [
    "def true_percent_relative_error(true, approx):\n",
    "    \"\"\"\n",
    "    Calculates the true percent relative error.\n",
    "    \n",
    "    true: true value\n",
    "    approx: approximation\n",
    "    \n",
    "    Returns: true percent relative error (in percent)\n",
    "    \"\"\"\n",
    "    if true == 0:\n",
    "        return None\n",
    "    epsilon_t = (true - approx) / true * 100 \n",
    "    return epsilon_t\n",
    "\n",
    "\n",
    "def linear_interpolation(x, x0, y0, x1, y1):\n",
    "    \"\"\"\n",
    "    Calculates the linear interpolation of x between (x0, y0) and (x1, y1)\n",
    "    \"\"\"\n",
    "    \n",
    "    y = y0 + (y1 - y0) * (x - x0) / (x1 - x0)\n",
    "    return y"
   ]
  },
  {
   "cell_type": "markdown",
   "metadata": {},
   "source": [
    "2. implement calculations"
   ]
  },
  {
   "cell_type": "code",
   "execution_count": 28,
   "metadata": {},
   "outputs": [
    {
     "name": "stdout",
     "output_type": "stream",
     "text": [
      "The true value is: 1.0000000\n"
     ]
    }
   ],
   "source": [
    "TRUE_VALUE = math.log(10, 10)\n",
    "print('The true value is: {:.7f}'.format(TRUE_VALUE))"
   ]
  },
  {
   "cell_type": "code",
   "execution_count": 29,
   "metadata": {},
   "outputs": [
    {
     "name": "stdout",
     "output_type": "stream",
     "text": [
      "The linear interpolation result is: 0.9911356\n",
      "The true percent relative error is :0.9%\n"
     ]
    }
   ],
   "source": [
    "# (a) interpolate using log(8) and log(12)\n",
    "approx1 = linear_interpolation(10, 8, 0.9030900, 12, 1.0791812)\n",
    "error1 = true_percent_relative_error(TRUE_VALUE, approx1)\n",
    "print('The linear interpolation result is: {:.7f}'.format(approx1))\n",
    "print('The true percent relative error is :{:.1f}%'.format(error1))"
   ]
  },
  {
   "cell_type": "code",
   "execution_count": 30,
   "metadata": {},
   "outputs": [
    {
     "name": "stdout",
     "output_type": "stream",
     "text": [
      "The linear interpolation result is: 0.9978176\n",
      "The true percent relative error is :0.2%\n"
     ]
    }
   ],
   "source": [
    "# (b) interpolate using log(9) and log(11)\n",
    "approx2 = linear_interpolation(10, 9, 0.9542425, 11, 1.0413927)\n",
    "error2 = true_percent_relative_error(TRUE_VALUE, approx2)\n",
    "print('The linear interpolation result is: {:.7f}'.format(approx2))\n",
    "print('The true percent relative error is :{:.1f}%'.format(error2))"
   ]
  },
  {
   "cell_type": "code",
   "execution_count": null,
   "metadata": {},
   "outputs": [],
   "source": [
    "# conclustion\n",
    "# when the range is smaller, the true percent relative error is smaller"
   ]
  },
  {
   "cell_type": "code",
   "execution_count": null,
   "metadata": {},
   "outputs": [],
   "source": []
  },
  {
   "cell_type": "code",
   "execution_count": null,
   "metadata": {},
   "outputs": [],
   "source": []
  }
 ],
 "metadata": {
  "kernelspec": {
   "display_name": "Python 3",
   "language": "python",
   "name": "python3"
  },
  "language_info": {
   "codemirror_mode": {
    "name": "ipython",
    "version": 3
   },
   "file_extension": ".py",
   "mimetype": "text/x-python",
   "name": "python",
   "nbconvert_exporter": "python",
   "pygments_lexer": "ipython3",
   "version": "3.8.5"
  }
 },
 "nbformat": 4,
 "nbformat_minor": 4
}
